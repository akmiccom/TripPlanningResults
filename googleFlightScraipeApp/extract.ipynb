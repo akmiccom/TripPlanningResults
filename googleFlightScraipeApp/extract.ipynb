{
 "cells": [
  {
   "cell_type": "markdown",
   "metadata": {},
   "source": [
    "# データ抽出"
   ]
  },
  {
   "cell_type": "code",
   "execution_count": 36,
   "metadata": {},
   "outputs": [],
   "source": [
    "from libs.mySelenium import start_google_chrome_with_port, send_keys, send_keys_and_enter, sendKeysAtcss, clickAtCss\n",
    "from selenium.webdriver.common.by import By\n",
    "from selenium.webdriver.common.keys import Keys\n",
    "from selenium.webdriver.common.action_chains import ActionChains\n",
    "import time\n",
    "import pandas as pd\n",
    "import csv"
   ]
  },
  {
   "cell_type": "code",
   "execution_count": 2,
   "metadata": {},
   "outputs": [],
   "source": [
    "url = 'https://www.google.com/travel/explore?tfs=CBwQAxosEgoyMDI0LTA2LTA1MgJOSGoMCAISCC9tLzA2eTU3cgwIBBIIL20vMDJqNzEaLBIKMjAyNC0wNi0xMTICTkhqDAgEEggvbS8wMmo3MXIMCAISCC9tLzA2eTU3QAFIAXABggELCP___________wGYAQGyAQQYASAB&tfu=GioaKAoSCXeIzv7xglRAEQAAAAAAgGZAEhIJWxnOVFzRUMARAAAAAACAZsA'\n",
    "driver, actionChains = start_google_chrome_with_port(url)"
   ]
  },
  {
   "cell_type": "code",
   "execution_count": 84,
   "metadata": {},
   "outputs": [],
   "source": [
    "# css = '#yDmH0d > c-wiz.zQTmif.SSPGKf > div > div.lteUWc > div > c-wiz > div.ql6Nlc > div > div > div.yg0R1e > main > div > div:nth-child(2) > div > ol > li:nth-child(4) > div > div.tsAU4e'\n",
    "css = 'main > div > div > div > ol > li > div > div'\n",
    "eles = driver.find_elements(By.CSS_SELECTOR, css)\n",
    "\n",
    "infos = []\n",
    "for i, ele in enumerate(eles):\n",
    "    if ele.text != '':\n",
    "        # print(i, end=', ')\n",
    "        infos.append(ele.text.split('\\n'))\n",
    "# infos"
   ]
  },
  {
   "cell_type": "code",
   "execution_count": 85,
   "metadata": {},
   "outputs": [],
   "source": [
    "with open('sample_writer.csv', 'a', encoding='utf-8') as f:\n",
    "    writer = csv.writer(f)\n",
    "    writer.writerows(infos)"
   ]
  },
  {
   "cell_type": "code",
   "execution_count": null,
   "metadata": {},
   "outputs": [],
   "source": [
    "df = pd.read_csv('sample_writer.csv', names=['destination', 'date', 'via', 'time', 'price'])\n",
    "df.drop_duplicates()\n",
    "for dest in df['destination'].unique():\n",
    "    display(df[df['destination'] == dest])"
   ]
  }
 ],
 "metadata": {
  "kernelspec": {
   "display_name": "Python 3",
   "language": "python",
   "name": "python3"
  },
  "language_info": {
   "codemirror_mode": {
    "name": "ipython",
    "version": 3
   },
   "file_extension": ".py",
   "mimetype": "text/x-python",
   "name": "python",
   "nbconvert_exporter": "python",
   "pygments_lexer": "ipython3",
   "version": "3.10.9"
  }
 },
 "nbformat": 4,
 "nbformat_minor": 2
}
