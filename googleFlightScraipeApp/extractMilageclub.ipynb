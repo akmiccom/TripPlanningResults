{
 "cells": [
  {
   "cell_type": "markdown",
   "metadata": {},
   "source": [
    "# データ抽出"
   ]
  },
  {
   "cell_type": "code",
   "execution_count": 2,
   "metadata": {},
   "outputs": [],
   "source": [
    "from libs.mySelenium import start_google_chrome_with_port, send_keys, send_keys_and_enter, sendKeysAtcss, clickAtCss\n",
    "from selenium.webdriver.common.by import By\n",
    "from selenium.webdriver.common.keys import Keys\n",
    "from selenium.webdriver.common.action_chains import ActionChains\n",
    "import time\n",
    "import pandas as pd\n",
    "import csv"
   ]
  },
  {
   "cell_type": "code",
   "execution_count": 3,
   "metadata": {},
   "outputs": [],
   "source": [
    "url = 'https://www.ana.co.jp/ja/us/amc/'\n",
    "driver, actionChains = start_google_chrome_with_port(url)"
   ]
  },
  {
   "cell_type": "code",
   "execution_count": 35,
   "metadata": {},
   "outputs": [
    {
     "data": {
      "text/plain": [
       "1"
      ]
     },
     "execution_count": 35,
     "metadata": {},
     "output_type": "execute_result"
    }
   ],
   "source": [
    "css = '#wrap-container > div > div > div > div > div > div > div > div > div > h2'\n",
    "eles = driver.find_elements(By.CSS_SELECTOR, css)\n",
    "len(eles)"
   ]
  },
  {
   "cell_type": "code",
   "execution_count": 42,
   "metadata": {},
   "outputs": [
    {
     "name": "stdout",
     "output_type": "stream",
     "text": [
      "特典\n",
      "マイルを貯める\n",
      "マイルを使う\n"
     ]
    }
   ],
   "source": [
    "infos = []\n",
    "\n",
    "css = '#wrap-container > div > div > div > div:nth-child(1) > div > div > div > div > div > h2'\n",
    "css = '#wrap-container > div > div > div > div:nth-child(2) > div > div > div > div > h2'\n",
    "css = '#wrap-container > div > div > div > div > div > div > div > div > h2'\n",
    "eles = driver.find_elements(By.CSS_SELECTOR, css)\n",
    "\n",
    "for i, ele in enumerate(eles):\n",
    "    if ele.text != '':\n",
    "        # print(i, end=', ')\n",
    "        infos.append(ele.text.split('\\n'))\n",
    "        print(ele.text)"
   ]
  },
  {
   "cell_type": "code",
   "execution_count": 56,
   "metadata": {},
   "outputs": [
    {
     "name": "stdout",
     "output_type": "stream",
     "text": [
      "ANAマイレージクラブに入会する\n",
      "https://www.ana.co.jp/ja/us/amc/join-amc/\n",
      "ANAマイレージクラブ ファミリーアカウントサービス\n",
      "https://www.ana.co.jp/ja/us/amc/amc-family-account-service/\n",
      "ANAからのお知らせ\n",
      "https://www.ana.co.jp/ja/us/offers-and-announcements/\n",
      "ANAマイレージクラブ会員規約\n",
      "https://www.ana.co.jp/ja/us/amc/terms-and-conditions/\n",
      "マイルの有効期限\n",
      "https://www.ana.co.jp/ja/us/amc/mileage-expiration-dates/\n",
      "マイルが貯まるケース・貯まらないケース\n",
      "https://www.ana.co.jp/ja/us/amc/when-miles-can-and-cannot-be-earned/\n",
      "ANAマイレージクラブ アプリ\n",
      "https://www.ana.co.jp/ja/us/amc/app-service/\n",
      "ANAマイレージクラブ会員特典\n",
      "https://www.ana.co.jp/ja/us/amc/amc-members/\n",
      "プレミアムメンバーサービス\n",
      "https://www.ana.co.jp/ja/us/amc/premium-members/\n",
      "ANAミリオンマイラープログラム\n",
      "https://www.ana.co.jp/ja/us/amc/ana-million-miler-program/\n",
      "スーパーフライヤーズ会員の特典\n",
      "https://www.ana.co.jp/ja/us/amc/super-flyers-card-members/\n",
      "ANA国内線航空券\n",
      "https://www.ana.co.jp/ja/us/amc/ana-japan-domestic-flights/\n",
      "ANA国際線航空券\n",
      "https://www.ana.co.jp/ja/us/amc/ana-international-flights/\n",
      "ANA機内免税品販売\n",
      "https://www.ana.co.jp/ja/us/travel-information/shopping/\n",
      "提携航空会社\n",
      "https://www.ana.co.jp/ja/us/amc/partner-airlines/\n",
      "提携ホテル\n",
      "https://www.ana.co.jp/ja/us/amc/partner-hotels/\n",
      "提携企業一覧\n",
      "https://www.ana.co.jp/ja/us/amc/partner-shop/\n",
      "ポイント交換\n",
      "https://www.ana.co.jp/ja/us/amc/exchange-point/\n",
      "アメリカン・エキスプレス（米国発行カード対象）\n",
      "https://www.ana.co.jp/ja/us/amc/amex-membership-rewards-program/\n",
      "ANA国内線特典航空券\n",
      "https://www.ana.co.jp/ja/us/amc/reference/tukau/award/dom/usage.html\n",
      "ANA国際線特典航空券\n",
      "https://www.ana.co.jp/ja/us/amc/reference/tukau/award/int/usage.html\n",
      "提携航空会社特典航空券\n",
      "https://www.ana.co.jp/ja/us/amc/reference/tukau/award/tk/usage.html\n",
      "ANA国際線アップグレード特典\n",
      "https://www.ana.co.jp/ja/us/amc/reference/tukau/upgrade/usage.html\n",
      "スター アライアンスアップグレード特典\n",
      "https://www.ana.co.jp/ja/us/amc/reference/tukau/star_upgrade/usage.html\n",
      "超過手荷物料金お支払い\n",
      "https://www.ana.co.jp/ja/us/amc/additional-baggage-allowance/\n",
      "その他のマイルの使用方法\n",
      "https://www.ana.co.jp/ja/us/amc/more-ways-to-use-miles/\n",
      "特典のご利用と共有\n",
      "https://www.ana.co.jp/ja/us/amc/using-and-sharing-awards/\n",
      "寄付・支援\n",
      "https://www.ana.co.jp/ja/us/amc/more-ways-to-use-miles/donation/\n",
      "ANA CARD U.S.A.\n",
      "https://www.anacardusa.com/\n"
     ]
    }
   ],
   "source": [
    "css = '#wrap-container > div > div > div > div:nth-child(1) > div > div > div > div.ANA-0060.aem-GridColumn.aem-GridColumn--small--12.aem-GridColumn--default--3.aem-GridColumn--medium--6 > div > div > div > ul > li:nth-child(1) > strong > a'\n",
    "css = '#wrap-container > div > div > div > div:nth-child(1) > div > div > div > div > div > div > div > ul > li > strong > a'\n",
    "css = '#wrap-container > div > div > div > div:nth-child(2) > div > div > div > div > div > ul > li > strong > a'\n",
    "css = 'div > div > div > div > div > div > div > div > div > ul > li > strong > a'\n",
    "eles = driver.find_elements(By.CSS_SELECTOR, css)\n",
    "\n",
    "infos = []\n",
    "for i, ele in enumerate(eles):\n",
    "    if ele.text != '':\n",
    "        # print(i, end=', ')\n",
    "        infos.append(ele.text.split('\\n'))\n",
    "        print(ele.text)\n",
    "        print(ele.get_attribute('href'))"
   ]
  },
  {
   "cell_type": "code",
   "execution_count": 85,
   "metadata": {},
   "outputs": [],
   "source": [
    "with open('sample_writer.csv', 'a', encoding='utf-8') as f:\n",
    "    writer = csv.writer(f)\n",
    "    writer.writerows(infos)"
   ]
  },
  {
   "cell_type": "code",
   "execution_count": null,
   "metadata": {},
   "outputs": [],
   "source": [
    "df = pd.read_csv('sample_writer.csv', names=['destination', 'date', 'via', 'time', 'price'])\n",
    "df.drop_duplicates()\n",
    "for dest in df['destination'].unique():\n",
    "    display(df[df['destination'] == dest])"
   ]
  }
 ],
 "metadata": {
  "kernelspec": {
   "display_name": "Python 3",
   "language": "python",
   "name": "python3"
  },
  "language_info": {
   "codemirror_mode": {
    "name": "ipython",
    "version": 3
   },
   "file_extension": ".py",
   "mimetype": "text/x-python",
   "name": "python",
   "nbconvert_exporter": "python",
   "pygments_lexer": "ipython3",
   "version": "3.10.9"
  }
 },
 "nbformat": 4,
 "nbformat_minor": 2
}
