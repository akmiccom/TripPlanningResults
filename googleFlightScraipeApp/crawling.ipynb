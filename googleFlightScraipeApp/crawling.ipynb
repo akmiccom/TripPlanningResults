{
 "cells": [
  {
   "cell_type": "markdown",
   "metadata": {},
   "source": [
    "# Crawling"
   ]
  },
  {
   "cell_type": "code",
   "execution_count": 1,
   "metadata": {},
   "outputs": [],
   "source": [
    "from libs.mySelenium import start_google_chrome_with_port, send_keys, send_keys_and_enter, sendKeysAtcss, clickAtCss\n",
    "from selenium.webdriver.common.by import By\n",
    "from selenium.webdriver.common.keys import Keys\n",
    "from selenium.webdriver.common.action_chains import ActionChains\n",
    "import time\n",
    "import pandas as pd\n",
    "import csv"
   ]
  },
  {
   "cell_type": "code",
   "execution_count": 2,
   "metadata": {},
   "outputs": [],
   "source": [
    "url = 'https://www.google.com'\n",
    "driver, actionChains = start_google_chrome_with_port(url)"
   ]
  },
  {
   "cell_type": "markdown",
   "metadata": {},
   "source": [
    "初期URL"
   ]
  },
  {
   "cell_type": "code",
   "execution_count": 3,
   "metadata": {},
   "outputs": [],
   "source": [
    "urls = {\n",
    "    'ana': 'https://www.google.com/travel/explore?tfs=CBwQAxosEgoyMDI0LTA1LTEwMgJOSGoMCAMSCC9tLzA3ZGZrcgwIBBIIL20vMDJqNzEaLBIKMjAyNC0wNS0xNjICTkhqDAgEEggvbS8wMmo3MXIMCAMSCC9tLzA3ZGZrQAFIAXACggELCP___________wGYAQGyAQQYASAB&tfu=GgA&hl=en-GB',\n",
    "    'star': 'https://www.google.com/travel/explore?tfs=CBwQAxo3EgoyMDI0LTEwLTE3Mg1TVEFSX0FMTElBTkNFagwIAxIIL20vMDdkZmtyDAgEEggvbS8wMmo3MRo3EgoyMDI0LTEwLTIzMg1TVEFSX0FMTElBTkNFagwIBBIIL20vMDJqNzFyDAgDEggvbS8wN2Rma0ABSAFwAYIBCwj___________8BmAEBsgEEGAEgAQ&tfu=GgA&hl=en-GB',\n",
    "    'all': 'https://www.google.com/travel/explore?tfs=CBwQAxooEgoyMDI0LTEwLTE3agwIAxIIL20vMDdkZmtyDAgEEggvbS8wMmo3MRooEgoyMDI0LTEwLTIzagwIBBIIL20vMDJqNzFyDAgDEggvbS8wN2Rma0ABSAFwAYIBCwj___________8BmAEBsgEEGAEgAQ&tfu=GioaKAoSCcSqy5dDD1RAEQAAAAAAgGZAEhIJOlY_fXHaUcARAAAAAACAZsA&hl=en-GB',\n",
    "}\n",
    "\n",
    "period = {\n",
    "    'weekend': 0,\n",
    "    '1week': 1,\n",
    "    '2weeks': 2,\n",
    "}\n",
    "\n",
    "dates = {\n",
    "    'thisMonth': 1,\n",
    "    'nextMonth': 2,\n",
    "    '2MonthsLater': 3,\n",
    "    '3MonthsLater': 4,\n",
    "    '4MonthsLater': 5,\n",
    "    '5MonthsLater': 6,\n",
    "}\n"
   ]
  },
  {
   "cell_type": "code",
   "execution_count": 4,
   "metadata": {},
   "outputs": [],
   "source": [
    "driver.get(urls['ana'])\n",
    "# driver.get(urls['star'])\n",
    "# driver.get(urls['all'])"
   ]
  },
  {
   "cell_type": "markdown",
   "metadata": {},
   "source": [
    "出発地入力"
   ]
  },
  {
   "cell_type": "code",
   "execution_count": 5,
   "metadata": {},
   "outputs": [],
   "source": [
    "airport = 'TYO'"
   ]
  },
  {
   "cell_type": "code",
   "execution_count": 12,
   "metadata": {},
   "outputs": [
    {
     "name": "stdout",
     "output_type": "stream",
     "text": [
      "0 \n",
      "1 \n",
      "2 \n"
     ]
    }
   ],
   "source": [
    "# css = '#yDmH0d > c-wiz.zQTmif.SSPGKf > div > div.lteUWc > div > c-wiz > div.ql6Nlc > div > div > div.yg0R1e > main > div > div:nth-child(2) > div > ol > li:nth-child(4) > div > div.tsAU4e'\n",
    "css = 'section > div > div > div > div > div > div > div > div > div > div > div > div > input'\n",
    "eles = driver.find_elements(By.CSS_SELECTOR, css)\n",
    "for i, ele in enumerate(eles):\n",
    "    print(i, ele.text.replace('\\n', ' '))\n",
    "eles[0].clear()\n",
    "eles[0].send_keys(airport)\n",
    "time.sleep(1)"
   ]
  },
  {
   "cell_type": "code",
   "execution_count": 13,
   "metadata": {},
   "outputs": [],
   "source": [
    "# css = '#yDmH0d > c-wiz.zQTmif.SSPGKf > div > div.lteUWc > div > c-wiz > div.ql6Nlc > div > div > div.yg0R1e > div.CkJH0 > section > div > div.MzdRSe > div.IS0cNb.ExHZLe > div:nth-child(1) > div.s6cLGc'\n",
    "css = 'section > div > div > div > div > div'\n",
    "css = 'section > div > div.MzdRSe > div.IS0cNb.ExHZLe > div:nth-child(1) > div'\n",
    "eles = driver.find_elements(By.CSS_SELECTOR, css)\n",
    "for i, ele in enumerate(eles):\n",
    "    if 'TYO' in ele.text:\n",
    "        print(i, ele.text.replace('\\n', ' '))\n",
    "        ele.click()\n",
    "\n",
    "time.sleep(2)"
   ]
  },
  {
   "cell_type": "markdown",
   "metadata": {},
   "source": [
    "検索期間入力"
   ]
  },
  {
   "cell_type": "code",
   "execution_count": 55,
   "metadata": {},
   "outputs": [
    {
     "name": "stdout",
     "output_type": "stream",
     "text": [
      "5 1-week trip in May\n"
     ]
    }
   ],
   "source": [
    "# css = '#yDmH0d > c-wiz.zQTmif.SSPGKf > div > div.lteUWc > div > c-wiz > div.ql6Nlc > div > div > div.yg0R1e > div.CkJH0 > section > div > div.MzdRSe > div.IS0cNb.ExHZLe > div:nth-child(1) > div.s6cLGc > div.bWstqf > div > div > div.cQnuXe.k0gFV > div > div > div > div:nth-child(2) > div'\n",
    "css = 'section > div > div > div > div > div > div > div > div > div > div > div > div > div > div'\n",
    "eles = driver.find_elements(By.CSS_SELECTOR, css)\n",
    "for i, ele in enumerate(eles):\n",
    "    if 'week' in ele.text:\n",
    "        print(i, ele.text.replace('\\n', ' '))\n",
    "        ele.click()"
   ]
  },
  {
   "cell_type": "code",
   "execution_count": 56,
   "metadata": {},
   "outputs": [
    {
     "name": "stdout",
     "output_type": "stream",
     "text": [
      "0 All\n",
      "1 May\n",
      "2 June\n",
      "3 July\n",
      "4 August\n",
      "5 September\n",
      "6 October\n"
     ]
    }
   ],
   "source": [
    "# css = '#ow78 > div.ZGEB9c.yRXJAe.P0ukfb.icWGef.bWstqf.iWO5td > div > div.rhyn.KyRJq > div > div:nth-child(3) > span > div > div.AplCNb.ewwQl > div:nth-child(1) > span:nth-child(3) > span > span > button > span'\n",
    "css = 'span > div > div > div:nth-child(1) > span > span > span > button > span'\n",
    "eles = driver.find_elements(By.CSS_SELECTOR, css)\n",
    "for i, ele in enumerate(eles):\n",
    "    # if 'June' in ele.text:\n",
    "    print(i, ele.text.replace('\\n', ' '))\n",
    "eles[dates['thisMonth']].click()"
   ]
  },
  {
   "cell_type": "code",
   "execution_count": 57,
   "metadata": {},
   "outputs": [
    {
     "name": "stdout",
     "output_type": "stream",
     "text": [
      "0 Weekend\n",
      "1 1 week\n",
      "2 2 weeks\n"
     ]
    }
   ],
   "source": [
    "css = 'span > div > div > div:nth-child(2) > span > span > span > button > span'\n",
    "eles = driver.find_elements(By.CSS_SELECTOR, css)\n",
    "for i, ele in enumerate(eles):\n",
    "    # if '1 week' in ele.text:\n",
    "    print(i, ele.text.replace('\\n', ' '))\n",
    "eles[period['1week']].click()"
   ]
  },
  {
   "cell_type": "code",
   "execution_count": 58,
   "metadata": {},
   "outputs": [
    {
     "name": "stdout",
     "output_type": "stream",
     "text": [
      "18 Done\n"
     ]
    }
   ],
   "source": [
    "# css = '#ow78 > div.ZGEB9c.yRXJAe.P0ukfb.icWGef.bWstqf.iWO5td > div > div.ohKsQc > div:nth-child(1) > button'\n",
    "css = 'div > div > div > div > button'\n",
    "eles = driver.find_elements(By.CSS_SELECTOR, css)\n",
    "for i, ele in enumerate(eles):\n",
    "    if 'Done' in ele.text:\n",
    "        print(i, ele.text.replace('\\n', ' '))\n",
    "        ele.click()\n",
    "time.sleep(5)"
   ]
  },
  {
   "cell_type": "markdown",
   "metadata": {},
   "source": [
    "抽出"
   ]
  },
  {
   "cell_type": "code",
   "execution_count": null,
   "metadata": {},
   "outputs": [],
   "source": [
    "css = 'main > div > div > div > ol > li > div > div'\n",
    "eles = driver.find_elements(By.CSS_SELECTOR, css)\n",
    "infos = []\n",
    "for i, ele in enumerate(eles):\n",
    "    if ele.text != '':\n",
    "        # print(i, end=', ')\n",
    "        infos.append([airport] + ele.text.split('\\n'))"
   ]
  },
  {
   "cell_type": "code",
   "execution_count": 46,
   "metadata": {},
   "outputs": [],
   "source": [
    "with open(f'{airport}.csv', 'w', encoding='utf-8') as f:\n",
    "    writer = csv.writer(f)\n",
    "    writer.writerows(infos)"
   ]
  },
  {
   "cell_type": "code",
   "execution_count": null,
   "metadata": {},
   "outputs": [],
   "source": []
  }
 ],
 "metadata": {
  "kernelspec": {
   "display_name": "Python 3",
   "language": "python",
   "name": "python3"
  },
  "language_info": {
   "codemirror_mode": {
    "name": "ipython",
    "version": 3
   },
   "file_extension": ".py",
   "mimetype": "text/x-python",
   "name": "python",
   "nbconvert_exporter": "python",
   "pygments_lexer": "ipython3",
   "version": "3.10.9"
  }
 },
 "nbformat": 4,
 "nbformat_minor": 2
}
