{
 "cells": [
  {
   "cell_type": "markdown",
   "metadata": {},
   "source": [
    "# Crawling"
   ]
  },
  {
   "cell_type": "code",
   "execution_count": 308,
   "metadata": {},
   "outputs": [],
   "source": [
    "from libs.mySelenium import start_google_chrome_with_port, send_keys, send_keys_and_enter, sendKeysAtcss, clickAtCss\n",
    "from selenium.webdriver.common.by import By\n",
    "from selenium.webdriver.common.keys import Keys\n",
    "from selenium.webdriver.common.action_chains import ActionChains\n",
    "import time\n",
    "import pandas as pd\n",
    "import csv"
   ]
  },
  {
   "cell_type": "code",
   "execution_count": 309,
   "metadata": {},
   "outputs": [],
   "source": [
    "url = 'https://www.google.com'\n",
    "driver, actionChains = start_google_chrome_with_port(url)"
   ]
  },
  {
   "cell_type": "markdown",
   "metadata": {},
   "source": [
    "初期URL"
   ]
  },
  {
   "cell_type": "code",
   "execution_count": 310,
   "metadata": {},
   "outputs": [],
   "source": [
    "url = 'https://www.google.com/travel/explore?tfs=CBwQAxonEgoyMDI0LTA2LTI0MgJOSGoHCAESA1NZRHIMCAQSCC9tLzAyajcxGicSCjIwMjQtMDctMDEyAk5IagwIBBIIL20vMDJqNzFyBwgBEgNTWURAAUgBcAGCAQsI____________AZgBAbIBBBgBIAE&tfu=GioaKAoSCeOI3BWfFVRAEQAAAAAAgGZAEhIJ5SItVV_OUcARAAAAAACAZsA&hl=en-GB'\n",
    "url = 'https://www.google.com/travel/explore?tfs=CBwQAxonEgoyMDI0LTA2LTI0MgJOSGoHCAESA1NZRHIMCAQSCC9tLzAyajcxGicSCjIwMjQtMDctMDEyAk5IagwIBBIIL20vMDJqNzFyBwgBEgNTWURAAUgBcAKCAQQIBRACmAEBsgEEGAEgAQ&tfu=GioaKAoSCeOI3BWfFVRAEQAAAAAAgGZAEhIJ5SItVV_OUcARAAAAAACAZsA&hl=en-GB'\n",
    "url = 'https://www.google.com/travel/explore?tfs=CBwQAxosEgoyMDI0LTA1LTEwMgJOSGoMCAMSCC9tLzA3ZGZrcgwIBBIIL20vMDJqNzEaLBIKMjAyNC0wNS0xNjICTkhqDAgEEggvbS8wMmo3MXIMCAMSCC9tLzA3ZGZrQAFIAXACggELCP___________wGYAQGyAQQYASAB&tfu=GgA&hl=en-GB'\n",
    "driver.get(url)"
   ]
  },
  {
   "cell_type": "markdown",
   "metadata": {},
   "source": [
    "出発地入力"
   ]
  },
  {
   "cell_type": "code",
   "execution_count": 311,
   "metadata": {},
   "outputs": [],
   "source": [
    "airport = 'SYD'"
   ]
  },
  {
   "cell_type": "code",
   "execution_count": 312,
   "metadata": {},
   "outputs": [],
   "source": [
    "# css = '#yDmH0d > c-wiz.zQTmif.SSPGKf > div > div.lteUWc > div > c-wiz > div.ql6Nlc > div > div > div.yg0R1e > main > div > div:nth-child(2) > div > ol > li:nth-child(4) > div > div.tsAU4e'\n",
    "css = 'section > div > div > div > div > div > div > div > div > div > div > div > div > input'\n",
    "eles = driver.find_elements(By.CSS_SELECTOR, css)\n",
    "eles[0].clear()\n",
    "eles[0].send_keys(airport)\n",
    "time.sleep(1)"
   ]
  },
  {
   "cell_type": "code",
   "execution_count": 313,
   "metadata": {},
   "outputs": [
    {
     "name": "stdout",
     "output_type": "stream",
     "text": [
      "1 ‌ney Airport Sydney AirportSYD Airport in Mascot, Australia Sydney, Australia City in Australia Sydney, Nova Scotia, Canada City in Cape Breton Island, Nova Scotia North Sydney Council, Australia Australian local government area Syddjurs Municipality, Denmark Municipality in Denmark 1-week trip in the next 6 months\n"
     ]
    }
   ],
   "source": [
    "# css = '#yDmH0d > c-wiz.zQTmif.SSPGKf > div > div.lteUWc > div > c-wiz > div.ql6Nlc > div > div > div.yg0R1e > div.CkJH0 > section > div > div.MzdRSe > div.IS0cNb.ExHZLe > div:nth-child(1) > div.s6cLGc'\n",
    "css = 'section > div > div > div > div > div'\n",
    "eles = driver.find_elements(By.CSS_SELECTOR, css)\n",
    "for i, ele in enumerate(eles):\n",
    "    if airport in ele.text:\n",
    "        print(i, ele.text.replace('\\n', ' '))\n",
    "        ele.click()\n",
    "\n",
    "time.sleep(2)"
   ]
  },
  {
   "cell_type": "markdown",
   "metadata": {},
   "source": [
    "検索期間入力"
   ]
  },
  {
   "cell_type": "code",
   "execution_count": 344,
   "metadata": {},
   "outputs": [
    {
     "name": "stdout",
     "output_type": "stream",
     "text": [
      "5 1-week trip in September\n"
     ]
    }
   ],
   "source": [
    "# css = '#yDmH0d > c-wiz.zQTmif.SSPGKf > div > div.lteUWc > div > c-wiz > div.ql6Nlc > div > div > div.yg0R1e > div.CkJH0 > section > div > div.MzdRSe > div.IS0cNb.ExHZLe > div:nth-child(1) > div.s6cLGc > div.bWstqf > div > div > div.cQnuXe.k0gFV > div > div > div > div:nth-child(2) > div'\n",
    "css = 'section > div > div > div > div > div > div > div > div > div > div > div > div > div > div'\n",
    "eles = driver.find_elements(By.CSS_SELECTOR, css)\n",
    "for i, ele in enumerate(eles):\n",
    "    if 'week' in ele.text:\n",
    "        print(i, ele.text.replace('\\n', ' '))\n",
    "        ele.click()"
   ]
  },
  {
   "cell_type": "code",
   "execution_count": 345,
   "metadata": {},
   "outputs": [
    {
     "name": "stdout",
     "output_type": "stream",
     "text": [
      "0 All\n",
      "1 May\n",
      "2 June\n",
      "3 July\n",
      "4 August\n",
      "5 September\n",
      "6 October\n"
     ]
    }
   ],
   "source": [
    "# css = '#ow78 > div.ZGEB9c.yRXJAe.P0ukfb.icWGef.bWstqf.iWO5td > div > div.rhyn.KyRJq > div > div:nth-child(3) > span > div > div.AplCNb.ewwQl > div:nth-child(1) > span:nth-child(3) > span > span > button > span'\n",
    "css = 'span > div > div > div:nth-child(1) > span > span > span > button > span'\n",
    "eles = driver.find_elements(By.CSS_SELECTOR, css)\n",
    "for i, ele in enumerate(eles):\n",
    "    # if 'June' in ele.text:\n",
    "    print(i, ele.text.replace('\\n', ' '))\n",
    "eles[1].click()"
   ]
  },
  {
   "cell_type": "code",
   "execution_count": 346,
   "metadata": {},
   "outputs": [
    {
     "name": "stdout",
     "output_type": "stream",
     "text": [
      "0 Weekend\n",
      "1 1 week\n",
      "2 2 weeks\n"
     ]
    }
   ],
   "source": [
    "css = 'span > div > div > div:nth-child(2) > span > span > span > button > span'\n",
    "eles = driver.find_elements(By.CSS_SELECTOR, css)\n",
    "for i, ele in enumerate(eles):\n",
    "    # if '1 week' in ele.text:\n",
    "    print(i, ele.text.replace('\\n', ' '))\n",
    "eles[1].click()"
   ]
  },
  {
   "cell_type": "code",
   "execution_count": 347,
   "metadata": {},
   "outputs": [
    {
     "name": "stdout",
     "output_type": "stream",
     "text": [
      "18 Done\n"
     ]
    }
   ],
   "source": [
    "# css = '#ow78 > div.ZGEB9c.yRXJAe.P0ukfb.icWGef.bWstqf.iWO5td > div > div.ohKsQc > div:nth-child(1) > button'\n",
    "css = 'div > div > div > div > button'\n",
    "eles = driver.find_elements(By.CSS_SELECTOR, css)\n",
    "for i, ele in enumerate(eles):\n",
    "    if 'Done' in ele.text:\n",
    "        print(i, ele.text.replace('\\n', ' '))\n",
    "        ele.click()\n",
    "time.sleep(5)"
   ]
  },
  {
   "cell_type": "code",
   "execution_count": 348,
   "metadata": {},
   "outputs": [],
   "source": [
    "css = 'main > div > div > div > ol > li > div > div'\n",
    "eles = driver.find_elements(By.CSS_SELECTOR, css)\n",
    "infos = []\n",
    "for i, ele in enumerate(eles):\n",
    "    if ele.text != '':\n",
    "        # print(i, end=', ')\n",
    "        infos.append(ele.text.split('\\n'))"
   ]
  },
  {
   "cell_type": "code",
   "execution_count": 349,
   "metadata": {},
   "outputs": [],
   "source": [
    "with open(f'{airport}.csv', 'a', encoding='utf-8') as f:\n",
    "    writer = csv.writer(f)\n",
    "    writer.writerows(infos)"
   ]
  },
  {
   "cell_type": "code",
   "execution_count": null,
   "metadata": {},
   "outputs": [],
   "source": []
  }
 ],
 "metadata": {
  "kernelspec": {
   "display_name": "Python 3",
   "language": "python",
   "name": "python3"
  },
  "language_info": {
   "codemirror_mode": {
    "name": "ipython",
    "version": 3
   },
   "file_extension": ".py",
   "mimetype": "text/x-python",
   "name": "python",
   "nbconvert_exporter": "python",
   "pygments_lexer": "ipython3",
   "version": "3.10.9"
  }
 },
 "nbformat": 4,
 "nbformat_minor": 2
}
