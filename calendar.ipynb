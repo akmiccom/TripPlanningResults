{
 "cells": [
  {
   "cell_type": "code",
   "execution_count": 28,
   "metadata": {},
   "outputs": [],
   "source": [
    "import calendar\n",
    "import numpy as np"
   ]
  },
  {
   "cell_type": "code",
   "execution_count": 2,
   "metadata": {},
   "outputs": [
    {
     "name": "stdout",
     "output_type": "stream",
     "text": [
      "                                  2024\n",
      "\n",
      "      January                   February                   March\n",
      "Mo Tu We Th Fr Sa Su      Mo Tu We Th Fr Sa Su      Mo Tu We Th Fr Sa Su\n",
      " 1  2  3  4  5  6  7                1  2  3  4                   1  2  3\n",
      " 8  9 10 11 12 13 14       5  6  7  8  9 10 11       4  5  6  7  8  9 10\n",
      "15 16 17 18 19 20 21      12 13 14 15 16 17 18      11 12 13 14 15 16 17\n",
      "22 23 24 25 26 27 28      19 20 21 22 23 24 25      18 19 20 21 22 23 24\n",
      "29 30 31                  26 27 28 29               25 26 27 28 29 30 31\n",
      "\n",
      "       April                      May                       June\n",
      "Mo Tu We Th Fr Sa Su      Mo Tu We Th Fr Sa Su      Mo Tu We Th Fr Sa Su\n",
      " 1  2  3  4  5  6  7             1  2  3  4  5                      1  2\n",
      " 8  9 10 11 12 13 14       6  7  8  9 10 11 12       3  4  5  6  7  8  9\n",
      "15 16 17 18 19 20 21      13 14 15 16 17 18 19      10 11 12 13 14 15 16\n",
      "22 23 24 25 26 27 28      20 21 22 23 24 25 26      17 18 19 20 21 22 23\n",
      "29 30                     27 28 29 30 31            24 25 26 27 28 29 30\n",
      "\n",
      "        July                     August                  September\n",
      "Mo Tu We Th Fr Sa Su      Mo Tu We Th Fr Sa Su      Mo Tu We Th Fr Sa Su\n",
      " 1  2  3  4  5  6  7                1  2  3  4                         1\n",
      " 8  9 10 11 12 13 14       5  6  7  8  9 10 11       2  3  4  5  6  7  8\n",
      "15 16 17 18 19 20 21      12 13 14 15 16 17 18       9 10 11 12 13 14 15\n",
      "22 23 24 25 26 27 28      19 20 21 22 23 24 25      16 17 18 19 20 21 22\n",
      "29 30 31                  26 27 28 29 30 31         23 24 25 26 27 28 29\n",
      "                                                    30\n",
      "\n",
      "      October                   November                  December\n",
      "Mo Tu We Th Fr Sa Su      Mo Tu We Th Fr Sa Su      Mo Tu We Th Fr Sa Su\n",
      "    1  2  3  4  5  6                   1  2  3                         1\n",
      " 7  8  9 10 11 12 13       4  5  6  7  8  9 10       2  3  4  5  6  7  8\n",
      "14 15 16 17 18 19 20      11 12 13 14 15 16 17       9 10 11 12 13 14 15\n",
      "21 22 23 24 25 26 27      18 19 20 21 22 23 24      16 17 18 19 20 21 22\n",
      "28 29 30 31               25 26 27 28 29 30         23 24 25 26 27 28 29\n",
      "                                                    30 31\n",
      "\n"
     ]
    }
   ],
   "source": [
    "print(calendar.calendar(2024))"
   ]
  },
  {
   "cell_type": "code",
   "execution_count": 3,
   "metadata": {},
   "outputs": [
    {
     "name": "stdout",
     "output_type": "stream",
     "text": [
      "18.949173964069693\n",
      "15.829920710987192\n"
     ]
    }
   ],
   "source": [
    "print(293860 / (0.7 * (4863 + 6214) * 2))\n",
    "print(363360 / (1.0 * (4863 + 6214 + 400) * 2))"
   ]
  },
  {
   "cell_type": "code",
   "execution_count": 4,
   "metadata": {},
   "outputs": [],
   "source": [
    "miles ={\n",
    "'シアトル':4775,\n",
    "'サンフランシスコ':5130,\n",
    "'サンノゼ':5162,\n",
    "'ロサンゼルス':5458,\n",
    "'ヒューストン':6658,\n",
    "'シカゴ':6283,\n",
    "'ニューヨーク':6739,\n",
    "'ワシントンDC':6762,\n",
    "'ホノルル':3831,\n",
    "'バンクーバー':4681,\n",
    "'メキシコシティ':7003,\n",
    "'ロンドン':6214,\n",
    "'フランクフルト':5928,\n",
    "'ミュンヘン':5866,\n",
    "'デュッセルドルフ':5959,\n",
    "'パリ':6194,\n",
    "'ブリュッセル':6067,\n",
    "'ウィーン':5699,\n",
    "'イスタンブール':5748,\n",
    "'モスクワ':4664,\n",
    "'ミラノ':6077,\n",
    "'ストックホルム':5439,\n",
    "'ソウル':758,\n",
    "'台北':1330,\n",
    "'シンガポール':3312,\n",
    "'ジャカルタ':3612,\n",
    "'バンコク':2869,\n",
    "'ホーチミンシティ':2706,\n",
    "'ハノイ':2294,\n",
    "'マニラ':1880,\n",
    "'クアラルンプール':3345,\n",
    "'ヤンゴン':2984,\n",
    "'デリー':3656,\n",
    "'ムンバイ':4201,\n",
    "'プノンペン':2759,\n",
    "'チェンナイ':4017,\n",
    "'シドニー':4863,\n",
    "'パース':4926,\n",
    "}"
   ]
  },
  {
   "cell_type": "code",
   "execution_count": 5,
   "metadata": {},
   "outputs": [],
   "source": [
    "check_extra = [\n",
    "    'ソウル', '台北', 'シンガポール', 'ジャカルタ', 'バンコク',\n",
    "    'ホーチミンシティ', 'ハノイ', 'マニラ', 'クアラルンプール', 'ヤンゴン',\n",
    "    'デリー', 'ムンバイ', 'プノンペン', 'チェンナイ', 'シドニー', 'パース'\n",
    "]"
   ]
  },
  {
   "cell_type": "code",
   "execution_count": 122,
   "metadata": {},
   "outputs": [],
   "source": [
    "route_ratio = 0.70\n",
    "extra_ratio = 0.95\n",
    "way = 2.0\n",
    "\n",
    "def new_func(route, route_ratio):\n",
    "    two_way = None\n",
    "    extra_mile = 0\n",
    "    route_extra = 1.0\n",
    "    if route in check_extra:\n",
    "        route_extra = 1.5\n",
    "    if route_ratio == 1.0:\n",
    "        extra_mile = 400\n",
    "\n",
    "    flight_mile = (miles[route] * route_ratio)\n",
    "    bonus_mile = miles[route] * route_ratio * extra_ratio\n",
    "    cluc_mile = (flight_mile + bonus_mile) * way\n",
    "    premium_point = (miles[route]* route_ratio * route_extra + extra_mile) * way\n",
    "\n",
    "    # print(route, miles[route], route_extra, extra_mile)\n",
    "\n",
    "    return np.array([round(cluc_mile, 2), round(premium_point, 2)])"
   ]
  },
  {
   "cell_type": "code",
   "execution_count": 125,
   "metadata": {},
   "outputs": [
    {
     "name": "stdout",
     "output_type": "stream",
     "text": [
      "30240.21 18911.9\n",
      "43200.3 28617.0\n"
     ]
    }
   ],
   "source": [
    "mile = new_func('シドニー', 0.70) + new_func('ロンドン', 0.70)\n",
    "print(mile[0], mile[1])\n",
    "mile = new_func('シドニー', 1.0) + new_func('ロンドン', 1.0)\n",
    "print(mile[0], mile[1])"
   ]
  },
  {
   "cell_type": "code",
   "execution_count": 127,
   "metadata": {},
   "outputs": [
    {
     "name": "stdout",
     "output_type": "stream",
     "text": [
      "31673.46 19646.9\n",
      "45247.8 29667.0\n"
     ]
    }
   ],
   "source": [
    "mile = new_func('シドニー', 0.70) + new_func('ニューヨーク', 0.70)\n",
    "print(mile[0], mile[1])\n",
    "mile = new_func('シドニー', 1.0) + new_func('ニューヨーク', 1.0)\n",
    "print(mile[0], mile[1])"
   ]
  },
  {
   "cell_type": "code",
   "execution_count": 126,
   "metadata": {},
   "outputs": [
    {
     "name": "stdout",
     "output_type": "stream",
     "text": [
      "26096.07 15724.1\n",
      "37280.1 24063.0\n"
     ]
    }
   ],
   "source": [
    "mile = new_func('クアラルンプール', 0.70) + new_func('ロンドン', 0.70)\n",
    "print(mile[0], mile[1])\n",
    "mile = new_func('クアラルンプール', 1.0) + new_func('ロンドン', 1.0)\n",
    "print(mile[0], mile[1])"
   ]
  },
  {
   "cell_type": "code",
   "execution_count": null,
   "metadata": {},
   "outputs": [],
   "source": []
  }
 ],
 "metadata": {
  "kernelspec": {
   "display_name": "Python 3",
   "language": "python",
   "name": "python3"
  },
  "language_info": {
   "codemirror_mode": {
    "name": "ipython",
    "version": 3
   },
   "file_extension": ".py",
   "mimetype": "text/x-python",
   "name": "python",
   "nbconvert_exporter": "python",
   "pygments_lexer": "ipython3",
   "version": "3.10.9"
  }
 },
 "nbformat": 4,
 "nbformat_minor": 2
}
